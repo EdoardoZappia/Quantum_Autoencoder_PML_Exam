{
 "cells": [
  {
   "cell_type": "code",
   "execution_count": 1,
   "metadata": {},
   "outputs": [
    {
     "name": "stderr",
     "output_type": "stream",
     "text": [
      "/var/folders/72/24j7jy9s6sb2xm_dc84kdhm00000gn/T/ipykernel_41626/2246287353.py:1: DeprecationWarning: \n",
      "Pyarrow will become a required dependency of pandas in the next major release of pandas (pandas 3.0),\n",
      "(to allow more performant data types, such as the Arrow string type, and better interoperability with other libraries)\n",
      "but was not found to be installed on your system.\n",
      "If this would cause problems for you,\n",
      "please provide us feedback at https://github.com/pandas-dev/pandas/issues/54466\n",
      "        \n",
      "  import pandas as pd\n"
     ]
    }
   ],
   "source": [
    "import pandas as pd\n",
    "import numpy as np\n",
    "from sklearn.preprocessing import LabelEncoder, MinMaxScaler\n",
    "from imblearn.under_sampling import RandomUnderSampler\n",
    "from sklearn.preprocessing import Normalizer, MinMaxScaler\n",
    "from sklearn.pipeline import Pipeline\n",
    "from sklearn.model_selection import train_test_split"
   ]
  },
  {
   "cell_type": "code",
   "execution_count": 2,
   "metadata": {},
   "outputs": [],
   "source": [
    "file_path = '/Users/edoardozappia/Downloads/dataset.csv'"
   ]
  },
  {
   "cell_type": "code",
   "execution_count": 3,
   "metadata": {},
   "outputs": [
    {
     "name": "stdout",
     "output_type": "stream",
     "text": [
      "Dataset imported successfully.\n"
     ]
    }
   ],
   "source": [
    "try:\n",
    "    df = pd.read_csv(file_path)\n",
    "    print(\"Dataset imported successfully.\")\n",
    "except FileNotFoundError:\n",
    "    print(\"File not found. Please check the file path.\")\n",
    "    exit()"
   ]
  },
  {
   "cell_type": "code",
   "execution_count": 4,
   "metadata": {},
   "outputs": [
    {
     "name": "stdout",
     "output_type": "stream",
     "text": [
      "   age gender       merchant             category  amount  fraud\n",
      "0  '4'    'M'   'M348934600'  'es_transportation'    4.55      0\n",
      "1  '2'    'M'   'M348934600'  'es_transportation'   39.68      0\n",
      "2  '4'    'F'  'M1823072687'  'es_transportation'   26.89      0\n",
      "3  '3'    'M'   'M348934600'  'es_transportation'   17.25      0\n",
      "4  '5'    'M'   'M348934600'  'es_transportation'   35.72      0\n"
     ]
    }
   ],
   "source": [
    "df.drop(columns=['step'], inplace=True)\n",
    "df.drop(columns=['zipcodeOri'], inplace=True)\n",
    "df.drop(columns=['zipMerchant'], inplace=True)\n",
    "df.drop(columns=['customer'], inplace=True)\n",
    "\n",
    "print(df.head())"
   ]
  },
  {
   "cell_type": "code",
   "execution_count": 5,
   "metadata": {},
   "outputs": [
    {
     "name": "stdout",
     "output_type": "stream",
     "text": [
      "   age  gender  merchant  category  amount  fraud\n",
      "0    4       2        30        12    4.55      0\n",
      "1    2       2        30        12   39.68      0\n",
      "2    4       1        18        12   26.89      0\n",
      "3    3       2        30        12   17.25      0\n",
      "4    5       2        30        12   35.72      0\n"
     ]
    }
   ],
   "source": [
    "encoder = LabelEncoder()\n",
    "\n",
    "encoded_age = encoder.fit_transform(df['age'])\n",
    "df['age'] = encoded_age\n",
    "encoded_gender = encoder.fit_transform(df['gender'])\n",
    "df['gender'] = encoded_gender\n",
    "encoded_merchant = encoder.fit_transform(df['merchant'])\n",
    "df['merchant'] = encoded_merchant\n",
    "encoded_category = encoder.fit_transform(df['category'])\n",
    "df['category'] = encoded_category\n",
    "\n",
    "print(df.head())"
   ]
  },
  {
   "cell_type": "code",
   "execution_count": 6,
   "metadata": {},
   "outputs": [
    {
     "name": "stdout",
     "output_type": "stream",
     "text": [
      "Class distribution before undersampling:\n",
      "fraud\n",
      "0    587443\n",
      "1      7200\n",
      "Name: count, dtype: int64\n",
      "Class distribution after undersampling:\n",
      "fraud\n",
      "0    140\n",
      "1     20\n",
      "Name: count, dtype: int64\n"
     ]
    }
   ],
   "source": [
    "X = df.drop('fraud', axis=1)\n",
    "y = df['fraud']\n",
    "\n",
    "# Check class distribution\n",
    "print(\"Class distribution before undersampling:\")\n",
    "print(y.value_counts())\n",
    "\n",
    "#---------------------------------------------------------------------------\n",
    "# To have only 80 fraud and 200 non-fraud samples (180 non-fraud samples will be used for training and 20 non-fraud + 80 fraud for testing)\n",
    "sampling_strategy = {0: 140, 1: 20}\n",
    "#---------------------------------------------------------------------------\n",
    "\n",
    "# Undersample the majority class\n",
    "undersample = RandomUnderSampler(sampling_strategy=sampling_strategy, random_state=42)\n",
    "X_resampled, y_resampled = undersample.fit_resample(X, y)\n",
    "\n",
    "# Check class distribution after undersampling\n",
    "print(\"Class distribution after undersampling:\")\n",
    "print(pd.Series(y_resampled).value_counts())"
   ]
  },
  {
   "cell_type": "code",
   "execution_count": 7,
   "metadata": {},
   "outputs": [],
   "source": [
    "X_resampled = MinMaxScaler().fit_transform(X_resampled)"
   ]
  },
  {
   "cell_type": "code",
   "execution_count": 8,
   "metadata": {},
   "outputs": [
    {
     "name": "stdout",
     "output_type": "stream",
     "text": [
      "128\n",
      "32\n"
     ]
    }
   ],
   "source": [
    "data = [X_resampled, y_resampled]\n",
    "X_train = X_resampled[:128]\n",
    "print(len(X_train))\n",
    "X_test = X_resampled[128:]\n",
    "print(len(X_test))\n",
    "y_train = y_resampled[:128]\n",
    "y_test = y_resampled[128:]"
   ]
  },
  {
   "cell_type": "code",
   "execution_count": 9,
   "metadata": {},
   "outputs": [
    {
     "name": "stdout",
     "output_type": "stream",
     "text": [
      "[[1.42857143e-01 6.66666667e-01 1.83673469e-01 0.00000000e+00\n",
      "  1.49948076e-02]\n",
      " [2.85714286e-01 6.66666667e-01 6.12244898e-01 8.57142857e-01\n",
      "  7.27286761e-03]\n",
      " [4.28571429e-01 6.66666667e-01 6.12244898e-01 8.57142857e-01\n",
      "  9.10424093e-03]\n",
      " [5.71428571e-01 6.66666667e-01 6.32653061e-01 1.42857143e-01\n",
      "  2.00889725e-02]\n",
      " [2.85714286e-01 6.66666667e-01 3.67346939e-01 8.57142857e-01\n",
      "  1.25319262e-02]\n",
      " [8.57142857e-01 6.66666667e-01 3.67346939e-01 8.57142857e-01\n",
      "  1.36861826e-02]\n",
      " [8.57142857e-01 3.33333333e-01 6.12244898e-01 8.57142857e-01\n",
      "  1.64402593e-02]\n",
      " [4.28571429e-01 3.33333333e-01 6.12244898e-01 8.57142857e-01\n",
      "  1.51667181e-02]\n",
      " [4.28571429e-01 3.33333333e-01 3.67346939e-01 8.57142857e-01\n",
      "  4.05568498e-03]\n",
      " [4.28571429e-01 3.33333333e-01 3.67346939e-01 8.57142857e-01\n",
      "  9.22703416e-04]\n",
      " [2.85714286e-01 6.66666667e-01 3.67346939e-01 8.57142857e-01\n",
      "  1.54052878e-02]\n",
      " [1.42857143e-01 3.33333333e-01 0.00000000e+00 2.85714286e-01\n",
      "  4.94470796e-02]\n",
      " [7.14285714e-01 6.66666667e-01 3.67346939e-01 8.57142857e-01\n",
      "  7.12200735e-04]\n",
      " [4.28571429e-01 6.66666667e-01 3.67346939e-01 8.57142857e-01\n",
      "  2.00679222e-03]\n",
      " [5.71428571e-01 6.66666667e-01 3.67346939e-01 8.57142857e-01\n",
      "  2.87686997e-03]\n",
      " [4.28571429e-01 3.33333333e-01 3.67346939e-01 8.57142857e-01\n",
      "  2.12783126e-02]\n",
      " [4.28571429e-01 6.66666667e-01 3.67346939e-01 8.57142857e-01\n",
      "  3.78203149e-03]\n",
      " [2.85714286e-01 3.33333333e-01 3.67346939e-01 8.57142857e-01\n",
      "  1.08408880e-02]\n",
      " [1.42857143e-01 6.66666667e-01 6.12244898e-01 8.57142857e-01\n",
      "  6.49049931e-03]\n",
      " [2.85714286e-01 3.33333333e-01 6.12244898e-01 8.57142857e-01\n",
      "  5.60989643e-03]\n",
      " [8.57142857e-01 3.33333333e-01 6.12244898e-01 8.57142857e-01\n",
      "  1.17144742e-02]\n",
      " [2.85714286e-01 6.66666667e-01 3.67346939e-01 8.57142857e-01\n",
      "  1.09882399e-02]\n",
      " [2.85714286e-01 3.33333333e-01 3.67346939e-01 8.57142857e-01\n",
      "  6.71503550e-03]\n",
      " [4.28571429e-01 3.33333333e-01 6.12244898e-01 8.57142857e-01\n",
      "  6.00283477e-03]\n",
      " [1.42857143e-01 3.33333333e-01 6.12244898e-01 8.57142857e-01\n",
      "  1.29985405e-02]\n",
      " [4.28571429e-01 6.66666667e-01 2.04081633e-01 1.00000000e+00\n",
      "  2.15238991e-02]\n",
      " [4.28571429e-01 6.66666667e-01 6.12244898e-01 8.57142857e-01\n",
      "  1.63630750e-02]\n",
      " [2.85714286e-01 3.33333333e-01 6.12244898e-01 8.57142857e-01\n",
      "  6.38524797e-04]\n",
      " [2.85714286e-01 6.66666667e-01 6.12244898e-01 8.57142857e-01\n",
      "  8.97793932e-03]\n",
      " [7.14285714e-01 3.33333333e-01 3.67346939e-01 8.57142857e-01\n",
      "  5.66953886e-03]\n",
      " [2.85714286e-01 3.33333333e-01 3.67346939e-01 8.57142857e-01\n",
      "  1.70542255e-02]\n",
      " [2.85714286e-01 3.33333333e-01 3.67346939e-01 8.57142857e-01\n",
      "  3.43119369e-03]\n",
      " [1.42857143e-01 6.66666667e-01 6.32653061e-01 1.42857143e-01\n",
      "  2.32780881e-02]\n",
      " [5.71428571e-01 6.66666667e-01 3.67346939e-01 8.57142857e-01\n",
      "  1.34651548e-02]\n",
      " [2.85714286e-01 6.66666667e-01 6.12244898e-01 8.57142857e-01\n",
      "  6.04844368e-03]\n",
      " [8.57142857e-01 6.66666667e-01 3.67346939e-01 8.57142857e-01\n",
      "  1.12478599e-02]\n",
      " [2.85714286e-01 6.66666667e-01 9.18367347e-01 2.14285714e-01\n",
      "  4.35740548e-03]\n",
      " [1.42857143e-01 1.00000000e+00 6.12244898e-01 8.57142857e-01\n",
      "  6.55715849e-03]\n",
      " [5.71428571e-01 6.66666667e-01 6.12244898e-01 8.57142857e-01\n",
      "  1.99205703e-02]\n",
      " [1.42857143e-01 3.33333333e-01 3.67346939e-01 8.57142857e-01\n",
      "  6.73608577e-04]\n",
      " [2.85714286e-01 6.66666667e-01 3.67346939e-01 8.57142857e-01\n",
      "  5.08013135e-03]\n",
      " [4.28571429e-01 3.33333333e-01 6.12244898e-01 8.57142857e-01\n",
      "  3.57152881e-03]\n",
      " [2.85714286e-01 3.33333333e-01 3.67346939e-01 8.57142857e-01\n",
      "  3.56100368e-03]\n",
      " [8.57142857e-01 3.33333333e-01 3.67346939e-01 8.57142857e-01\n",
      "  5.62392994e-03]\n",
      " [5.71428571e-01 6.66666667e-01 3.67346939e-01 8.57142857e-01\n",
      "  4.10480227e-03]\n",
      " [4.28571429e-01 3.33333333e-01 6.12244898e-01 8.57142857e-01\n",
      "  2.94703753e-04]\n",
      " [2.85714286e-01 6.66666667e-01 3.67346939e-01 8.57142857e-01\n",
      "  5.07311460e-03]\n",
      " [5.71428571e-01 3.33333333e-01 3.67346939e-01 8.57142857e-01\n",
      "  1.43141823e-02]\n",
      " [2.85714286e-01 3.33333333e-01 3.67346939e-01 8.57142857e-01\n",
      "  1.95065817e-03]\n",
      " [5.71428571e-01 3.33333333e-01 3.67346939e-01 8.57142857e-01\n",
      "  1.08514132e-02]\n",
      " [2.85714286e-01 3.33333333e-01 3.67346939e-01 8.57142857e-01\n",
      "  8.79901204e-03]\n",
      " [7.14285714e-01 3.33333333e-01 3.67346939e-01 8.57142857e-01\n",
      "  3.13298156e-03]\n",
      " [5.71428571e-01 3.33333333e-01 3.67346939e-01 8.57142857e-01\n",
      "  5.37132673e-03]\n",
      " [4.28571429e-01 3.33333333e-01 0.00000000e+00 2.85714286e-01\n",
      "  4.51212495e-02]\n",
      " [7.14285714e-01 3.33333333e-01 6.12244898e-01 8.57142857e-01\n",
      "  1.07286199e-02]\n",
      " [1.00000000e+00 0.00000000e+00 6.12244898e-01 8.57142857e-01\n",
      "  1.06619608e-02]\n",
      " [4.28571429e-01 6.66666667e-01 6.12244898e-01 8.57142857e-01\n",
      "  1.71243931e-02]\n",
      " [2.85714286e-01 6.66666667e-01 3.67346939e-01 8.57142857e-01\n",
      "  1.02479722e-02]\n",
      " [5.71428571e-01 6.66666667e-01 3.67346939e-01 8.57142857e-01\n",
      "  8.71481097e-03]\n",
      " [4.28571429e-01 6.66666667e-01 3.67346939e-01 8.57142857e-01\n",
      "  1.88049061e-03]\n",
      " [2.85714286e-01 6.66666667e-01 9.18367347e-01 2.14285714e-01\n",
      "  2.27132392e-02]\n",
      " [4.28571429e-01 3.33333333e-01 3.67346939e-01 8.57142857e-01\n",
      "  5.43096915e-03]\n",
      " [5.71428571e-01 6.66666667e-01 3.67346939e-01 8.57142857e-01\n",
      "  4.04165146e-03]\n",
      " [8.57142857e-01 6.66666667e-01 4.69387755e-01 2.85714286e-01\n",
      "  1.43843498e-03]\n",
      " [5.71428571e-01 6.66666667e-01 6.12244898e-01 8.57142857e-01\n",
      "  1.20267198e-02]\n",
      " [4.28571429e-01 3.33333333e-01 3.67346939e-01 8.57142857e-01\n",
      "  3.78553987e-03]\n",
      " [2.85714286e-01 6.66666667e-01 3.67346939e-01 8.57142857e-01\n",
      "  1.38230093e-03]\n",
      " [1.42857143e-01 3.33333333e-01 3.67346939e-01 8.57142857e-01\n",
      "  1.54228297e-02]\n",
      " [2.85714286e-01 3.33333333e-01 3.67346939e-01 8.57142857e-01\n",
      "  2.85371467e-02]\n",
      " [2.85714286e-01 6.66666667e-01 9.18367347e-01 2.14285714e-01\n",
      "  1.74541806e-02]\n",
      " [5.71428571e-01 6.66666667e-01 6.12244898e-01 8.57142857e-01\n",
      "  1.93802801e-02]\n",
      " [7.14285714e-01 6.66666667e-01 6.12244898e-01 8.57142857e-01\n",
      "  2.41165904e-02]\n",
      " [2.85714286e-01 6.66666667e-01 3.67346939e-01 8.57142857e-01\n",
      "  1.56017570e-02]\n",
      " [2.85714286e-01 6.66666667e-01 6.12244898e-01 8.57142857e-01\n",
      "  7.06587331e-03]\n",
      " [5.71428571e-01 6.66666667e-01 6.12244898e-01 8.57142857e-01\n",
      "  2.52603216e-04]\n",
      " [4.28571429e-01 3.33333333e-01 1.02040816e-01 4.28571429e-01\n",
      "  1.18442842e-02]\n",
      " [8.57142857e-01 3.33333333e-01 6.12244898e-01 8.57142857e-01\n",
      "  2.07064470e-02]\n",
      " [2.85714286e-01 3.33333333e-01 3.67346939e-01 8.57142857e-01\n",
      "  3.39610991e-03]\n",
      " [4.28571429e-01 6.66666667e-01 3.67346939e-01 8.57142857e-01\n",
      "  2.37166353e-03]\n",
      " [7.14285714e-01 6.66666667e-01 6.93877551e-01 2.85714286e-01\n",
      "  8.83760420e-03]\n",
      " [4.28571429e-01 6.66666667e-01 6.12244898e-01 8.57142857e-01\n",
      "  7.27286761e-03]\n",
      " [4.28571429e-01 3.33333333e-01 6.12244898e-01 8.57142857e-01\n",
      "  8.77094502e-05]\n",
      " [1.42857143e-01 3.33333333e-01 3.67346939e-01 8.57142857e-01\n",
      "  1.23144068e-02]\n",
      " [4.28571429e-01 3.33333333e-01 3.67346939e-01 8.57142857e-01\n",
      "  5.09416487e-03]\n",
      " [2.85714286e-01 6.66666667e-01 6.12244898e-01 8.57142857e-01\n",
      "  1.30511662e-03]\n",
      " [1.42857143e-01 3.33333333e-01 6.12244898e-01 8.57142857e-01\n",
      "  1.15495804e-02]\n",
      " [2.85714286e-01 6.66666667e-01 6.12244898e-01 8.57142857e-01\n",
      "  3.71888069e-04]\n",
      " [7.14285714e-01 3.33333333e-01 6.12244898e-01 8.57142857e-01\n",
      "  5.33975133e-03]\n",
      " [2.85714286e-01 3.33333333e-01 4.89795918e-01 1.00000000e+00\n",
      "  1.82190070e-02]\n",
      " [5.71428571e-01 6.66666667e-01 3.67346939e-01 8.57142857e-01\n",
      "  6.40278986e-03]\n",
      " [5.71428571e-01 6.66666667e-01 6.12244898e-01 8.57142857e-01\n",
      "  1.40826293e-02]\n",
      " [4.28571429e-01 6.66666667e-01 6.12244898e-01 8.57142857e-01\n",
      "  1.48088636e-02]\n",
      " [2.85714286e-01 3.33333333e-01 3.67346939e-01 8.57142857e-01\n",
      "  1.58964607e-02]\n",
      " [4.28571429e-01 6.66666667e-01 6.12244898e-01 8.57142857e-01\n",
      "  1.43773331e-02]\n",
      " [2.85714286e-01 3.33333333e-01 6.12244898e-01 8.57142857e-01\n",
      "  3.25577479e-03]\n",
      " [5.71428571e-01 6.66666667e-01 3.67346939e-01 8.57142857e-01\n",
      "  1.16899155e-02]\n",
      " [4.28571429e-01 6.66666667e-01 3.67346939e-01 8.57142857e-01\n",
      "  3.24875803e-03]\n",
      " [2.85714286e-01 3.33333333e-01 3.67346939e-01 8.57142857e-01\n",
      "  6.37121446e-03]\n",
      " [8.57142857e-01 6.66666667e-01 3.67346939e-01 8.57142857e-01\n",
      "  3.23472452e-03]\n",
      " [0.00000000e+00 3.33333333e-01 3.67346939e-01 8.57142857e-01\n",
      "  1.24477252e-02]\n",
      " [1.42857143e-01 3.33333333e-01 0.00000000e+00 2.85714286e-01\n",
      "  2.55690589e-02]\n",
      " [4.28571429e-01 3.33333333e-01 3.67346939e-01 8.57142857e-01\n",
      "  9.03056499e-03]\n",
      " [7.14285714e-01 6.66666667e-01 3.67346939e-01 8.57142857e-01\n",
      "  4.58545005e-03]\n",
      " [4.28571429e-01 3.33333333e-01 6.12244898e-01 8.57142857e-01\n",
      "  1.39738696e-02]\n",
      " [5.71428571e-01 6.66666667e-01 6.12244898e-01 8.57142857e-01\n",
      "  1.20758371e-02]\n",
      " [2.85714286e-01 6.66666667e-01 6.12244898e-01 8.57142857e-01\n",
      "  1.80962138e-02]\n",
      " [4.28571429e-01 6.66666667e-01 3.67346939e-01 8.57142857e-01\n",
      "  7.82719133e-03]\n",
      " [2.85714286e-01 3.33333333e-01 4.69387755e-01 2.85714286e-01\n",
      "  1.22828314e-02]\n",
      " [2.85714286e-01 3.33333333e-01 3.67346939e-01 8.57142857e-01\n",
      "  1.29003059e-02]\n",
      " [2.85714286e-01 3.33333333e-01 3.67346939e-01 8.57142857e-01\n",
      "  0.00000000e+00]\n",
      " [4.28571429e-01 3.33333333e-01 6.12244898e-01 8.57142857e-01\n",
      "  1.03953240e-02]\n",
      " [8.57142857e-01 6.66666667e-01 3.67346939e-01 8.57142857e-01\n",
      "  2.60672486e-03]\n",
      " [5.71428571e-01 6.66666667e-01 3.67346939e-01 8.57142857e-01\n",
      "  5.93617559e-03]\n",
      " [1.42857143e-01 3.33333333e-01 3.67346939e-01 8.57142857e-01\n",
      "  1.41563053e-02]\n",
      " [2.85714286e-01 3.33333333e-01 3.67346939e-01 8.57142857e-01\n",
      "  1.17425412e-02]\n",
      " [4.28571429e-01 6.66666667e-01 3.67346939e-01 8.57142857e-01\n",
      "  1.58999691e-02]\n",
      " [5.71428571e-01 3.33333333e-01 3.67346939e-01 8.57142857e-01\n",
      "  1.08163294e-02]\n",
      " [2.85714286e-01 6.66666667e-01 6.12244898e-01 8.57142857e-01\n",
      "  1.11671672e-02]\n",
      " [7.14285714e-01 6.66666667e-01 3.67346939e-01 8.57142857e-01\n",
      "  2.56532600e-02]\n",
      " [7.14285714e-01 6.66666667e-01 8.77551020e-01 5.00000000e-01\n",
      "  5.90810856e-03]\n",
      " [5.71428571e-01 6.66666667e-01 6.12244898e-01 8.57142857e-01\n",
      "  1.00199276e-02]\n",
      " [4.28571429e-01 3.33333333e-01 3.67346939e-01 8.57142857e-01\n",
      "  1.36370653e-02]\n",
      " [7.14285714e-01 3.33333333e-01 3.67346939e-01 8.57142857e-01\n",
      "  1.57806843e-02]\n",
      " [4.28571429e-01 3.33333333e-01 6.12244898e-01 8.57142857e-01\n",
      "  8.16399562e-03]\n",
      " [1.42857143e-01 3.33333333e-01 6.12244898e-01 8.57142857e-01\n",
      "  1.13110107e-02]\n",
      " [7.14285714e-01 3.33333333e-01 3.67346939e-01 8.57142857e-01\n",
      "  5.12924865e-03]\n",
      " [2.85714286e-01 3.33333333e-01 3.67346939e-01 8.57142857e-01\n",
      "  1.35072553e-03]\n",
      " [5.71428571e-01 3.33333333e-01 3.67346939e-01 8.57142857e-01\n",
      "  6.67995172e-03]]\n"
     ]
    }
   ],
   "source": [
    "print(X_train)"
   ]
  },
  {
   "cell_type": "code",
   "execution_count": 10,
   "metadata": {},
   "outputs": [],
   "source": [
    "# configure our pipeline\n",
    "#pipeline = Pipeline([('normalizer', Normalizer()),\n",
    "#                     ('scaler', MinMaxScaler())])"
   ]
  },
  {
   "cell_type": "code",
   "execution_count": 11,
   "metadata": {},
   "outputs": [],
   "source": [
    "# get normalization parameters by fitting to the training data\n",
    "#pipeline.fit(X_train);"
   ]
  },
  {
   "cell_type": "code",
   "execution_count": 15,
   "metadata": {},
   "outputs": [],
   "source": [
    "# transform the training and validation data with these parameters\n",
    "#X_train_transformed = pipeline.transform(X_train)\n",
    "#X_test_transformed = pipeline.transform(X_test)\n",
    "#X_train_transformed = X_train_transformed.reshape(4, 32) #np.reshape(X_train_transformed, ())\n",
    "#print(len(X_train_transformed))"
   ]
  },
  {
   "cell_type": "code",
   "execution_count": null,
   "metadata": {},
   "outputs": [],
   "source": [
    "def ansatz_custom_digits(params, n_wires_latent, n_wires_trash):\n",
    "    params = qml.numpy.tensor(params, requires_grad=True)\n",
    "    for j in range(6):\n",
    "        for i in range(n_wires_latent+n_wires_trash):\n",
    "            k = j*5+i\n",
    "            qml.RY(params[k], wires=i)\n",
    "        if j!=4:\n",
    "            for i in range(n_wires_latent + n_wires_trash - 1):\n",
    "                qml.CNOT(wires=[i, i+1])"
   ]
  },
  {
   "cell_type": "code",
   "execution_count": null,
   "metadata": {},
   "outputs": [],
   "source": [
    "@qml.qnode(dev)\n",
    "def train_circuit(params, X_train):\n",
    "    qml.devices.qubit.create_initial_state([0, 1, 2, 3, 4, 5, 6])\n",
    "    ansatz_custom_digits(X_train, n_wires_latent, n_wires_trash)\n",
    "    ansatz_custom_digits(params, n_wires_latent, n_wires_trash)\n",
    "    swap_test(n_wires_latent, n_wires_trash)\n",
    "    return qml.probs(wires=7)"
   ]
  },
  {
   "cell_type": "code",
   "execution_count": null,
   "metadata": {},
   "outputs": [],
   "source": [
    "params_digits = np.random.random((30,))\n",
    "params_digits = qml.numpy.tensor(params_digits, requires_grad=True)"
   ]
  },
  {
   "cell_type": "code",
   "execution_count": null,
   "metadata": {},
   "outputs": [],
   "source": [
    "def cost_function_digits(weights):\n",
    "    probabilities = [train_circuit(weights, data) for data in X_train]\n",
    "    print(probabilities)\n",
    "    cost_value = np.sum([p[1] for p in probabilities])/train_images.shape[0]\n",
    "    return cost_value"
   ]
  },
  {
   "cell_type": "code",
   "execution_count": null,
   "metadata": {},
   "outputs": [],
   "source": [
    "cost_values_digits = []\n",
    "opt_weights_digits = []\n",
    "def callback(xk):\n",
    "    cost_val = cost_function_digits(xk)\n",
    "    cost_values_digits.append(cost_val)\n",
    "    opt_weights_digits.append(xk)\n",
    "    print(f\"Step {len(cost_values_digits)}: cost = {cost_val:.4f}, params = {xk}\")"
   ]
  },
  {
   "cell_type": "code",
   "execution_count": null,
   "metadata": {},
   "outputs": [],
   "source": [
    "minimize(cost_function_digits, params_digits, method='COBYLA', callback=callback, options={'maxiter': 500})\n",
    "opt_weights_digits = opt_weights_digits[-1]"
   ]
  }
 ],
 "metadata": {
  "kernelspec": {
   "display_name": "Python 3",
   "language": "python",
   "name": "python3"
  },
  "language_info": {
   "codemirror_mode": {
    "name": "ipython",
    "version": 3
   },
   "file_extension": ".py",
   "mimetype": "text/x-python",
   "name": "python",
   "nbconvert_exporter": "python",
   "pygments_lexer": "ipython3",
   "version": "3.9.6"
  }
 },
 "nbformat": 4,
 "nbformat_minor": 2
}
