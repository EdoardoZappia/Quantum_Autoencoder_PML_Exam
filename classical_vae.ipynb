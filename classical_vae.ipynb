{
 "cells": [
  {
   "cell_type": "code",
   "execution_count": 1,
   "metadata": {},
   "outputs": [
    {
     "name": "stderr",
     "output_type": "stream",
     "text": [
      "/var/folders/72/24j7jy9s6sb2xm_dc84kdhm00000gn/T/ipykernel_81919/3200721590.py:1: DeprecationWarning: \n",
      "Pyarrow will become a required dependency of pandas in the next major release of pandas (pandas 3.0),\n",
      "(to allow more performant data types, such as the Arrow string type, and better interoperability with other libraries)\n",
      "but was not found to be installed on your system.\n",
      "If this would cause problems for you,\n",
      "please provide us feedback at https://github.com/pandas-dev/pandas/issues/54466\n",
      "        \n",
      "  import pandas as pd\n",
      "2024-07-05 17:26:50.800483: I tensorflow/core/platform/cpu_feature_guard.cc:210] This TensorFlow binary is optimized to use available CPU instructions in performance-critical operations.\n",
      "To enable the following instructions: AVX2 FMA, in other operations, rebuild TensorFlow with the appropriate compiler flags.\n",
      "/Users/edoardozappia/Library/Python/3.9/lib/python/site-packages/urllib3/__init__.py:35: NotOpenSSLWarning: urllib3 v2 only supports OpenSSL 1.1.1+, currently the 'ssl' module is compiled with 'LibreSSL 2.8.3'. See: https://github.com/urllib3/urllib3/issues/3020\n",
      "  warnings.warn(\n"
     ]
    }
   ],
   "source": [
    "import pandas as pd\n",
    "import numpy as np\n",
    "from sklearn.preprocessing import StandardScaler\n",
    "from sklearn.model_selection import train_test_split\n",
    "import numpy as np\n",
    "from sklearn.metrics import roc_auc_score, accuracy_score, precision_score, recall_score, f1_score, roc_curve, precision_recall_curve, confusion_matrix\n",
    "import tensorflow as tf\n",
    "import tensorflow_probability as tfp\n",
    "from tensorflow.keras.layers import Layer\n",
    "from tensorflow_probability import distributions as tfd\n",
    "import matplotlib.pyplot as plt"
   ]
  },
  {
   "cell_type": "code",
   "execution_count": 2,
   "metadata": {},
   "outputs": [],
   "source": [
    "df = pd.read_csv('/Users/edoardozappia/Downloads/creditcard.csv')"
   ]
  },
  {
   "cell_type": "code",
   "execution_count": 3,
   "metadata": {},
   "outputs": [],
   "source": [
    "frauds = df[df.Class == 1]\n",
    "normal = df[df.Class == 0]"
   ]
  },
  {
   "cell_type": "code",
   "execution_count": 4,
   "metadata": {},
   "outputs": [],
   "source": [
    "data = df.drop(['Time'], axis=1)\n",
    "data['Amount'] = StandardScaler().fit_transform(data['Amount'].values.reshape(-1, 1))"
   ]
  },
  {
   "cell_type": "code",
   "execution_count": 5,
   "metadata": {},
   "outputs": [
    {
     "name": "stdout",
     "output_type": "stream",
     "text": [
      "(227451, 29)\n"
     ]
    }
   ],
   "source": [
    "X_train, X_test = train_test_split(data, test_size=0.2, random_state=42)\n",
    "X_train = X_train[X_train.Class == 0]\n",
    "X_train = X_train.drop(['Class'], axis=1)\n",
    "\n",
    "print(X_train.shape)\n",
    "\n",
    "#y_test = X_test['Class']\n",
    "#X_test = X_test.drop(['Class'], axis=1)\n",
    "\n",
    "X_train = X_train.values\n",
    "#X_test = X_test.values"
   ]
  },
  {
   "cell_type": "code",
   "execution_count": 6,
   "metadata": {},
   "outputs": [
    {
     "name": "stdout",
     "output_type": "stream",
     "text": [
      "[0 0 0 ... 1 1 1]\n"
     ]
    }
   ],
   "source": [
    "class_0 = X_test[X_test.Class == 0]\n",
    "class_1 = X_test[X_test.Class == 1]\n",
    "\n",
    "total_size = len(X_test)\n",
    "desired_size_class_1 = int(total_size * 0.4)\n",
    "desired_size_class_0 = total_size - desired_size_class_1\n",
    "\n",
    "class_1_sampled = class_1.sample(n=desired_size_class_1, replace=True, random_state=42)\n",
    "class_0_sampled = class_0.sample(n=desired_size_class_0, replace=True, random_state=42)\n",
    "\n",
    "balanced_data = pd.concat([class_0_sampled, class_1_sampled])\n",
    "\n",
    "X_test = balanced_data.drop('Class', axis=1)\n",
    "y_test = balanced_data['Class']\n",
    "\n",
    "X_test = X_test.values\n",
    "y_test = y_test.values\n",
    "print(y_test)"
   ]
  },
  {
   "cell_type": "code",
   "execution_count": 7,
   "metadata": {},
   "outputs": [
    {
     "name": "stdout",
     "output_type": "stream",
     "text": [
      "34178\n",
      "22784\n"
     ]
    }
   ],
   "source": [
    "print(np.count_nonzero(y_test == 0))\n",
    "print(np.count_nonzero(y_test == 1))"
   ]
  },
  {
   "cell_type": "code",
   "execution_count": 8,
   "metadata": {},
   "outputs": [
    {
     "name": "stdout",
     "output_type": "stream",
     "text": [
      "29\n"
     ]
    }
   ],
   "source": [
    "input_dim = X_train.shape[1]\n",
    "input_shape=(29,)\n",
    "print(input_dim)\n",
    "original_dim = input_dim  # Esempio di dimensione dell'input originale\n",
    "intermediary_dims = [20, 10 ,8]\n",
    "latent_dim = 2  # Esempio di dimensione dello spazio latente"
   ]
  },
  {
   "cell_type": "code",
   "execution_count": 9,
   "metadata": {},
   "outputs": [
    {
     "name": "stdout",
     "output_type": "stream",
     "text": [
      "Epoch 1/50\n",
      "Tensor(\"mul:0\", shape=(), dtype=float32)\n"
     ]
    },
    {
     "name": "stderr",
     "output_type": "stream",
     "text": [
      "/Users/edoardozappia/Library/Python/3.9/lib/python/site-packages/keras/src/optimizers/base_optimizer.py:664: UserWarning: Gradients do not exist for variables ['kernel', 'bias', 'kernel', 'bias', 'kernel', 'bias', 'kernel', 'bias'] when minimizing the loss. If using `model.compile()`, did you forget to provide a `loss` argument?\n",
      "  warnings.warn(\n"
     ]
    },
    {
     "name": "stdout",
     "output_type": "stream",
     "text": [
      "Tensor(\"mul:0\", shape=(), dtype=float32)\n",
      "\u001b[1m3554/3554\u001b[0m \u001b[32m━━━━━━━━━━━━━━━━━━━━\u001b[0m\u001b[37m\u001b[0m \u001b[1m11s\u001b[0m 2ms/step - kl_divergence: 0.5277 - loss: 38.2174 - reconstruction_loss: 37.6896\n",
      "Epoch 2/50\n",
      "\u001b[1m3554/3554\u001b[0m \u001b[32m━━━━━━━━━━━━━━━━━━━━\u001b[0m\u001b[37m\u001b[0m \u001b[1m7s\u001b[0m 2ms/step - kl_divergence: 0.0460 - loss: 37.6367 - reconstruction_loss: 37.5907\n",
      "Epoch 3/50\n",
      "\u001b[1m3554/3554\u001b[0m \u001b[32m━━━━━━━━━━━━━━━━━━━━\u001b[0m\u001b[37m\u001b[0m \u001b[1m7s\u001b[0m 2ms/step - kl_divergence: 0.0103 - loss: 37.5389 - reconstruction_loss: 37.5286\n",
      "Epoch 4/50\n",
      "\u001b[1m3554/3554\u001b[0m \u001b[32m━━━━━━━━━━━━━━━━━━━━\u001b[0m\u001b[37m\u001b[0m \u001b[1m7s\u001b[0m 2ms/step - kl_divergence: 0.0104 - loss: 37.4981 - reconstruction_loss: 37.4877\n",
      "Epoch 5/50\n",
      "\u001b[1m3554/3554\u001b[0m \u001b[32m━━━━━━━━━━━━━━━━━━━━\u001b[0m\u001b[37m\u001b[0m \u001b[1m9s\u001b[0m 2ms/step - kl_divergence: 0.0129 - loss: 37.4733 - reconstruction_loss: 37.4605\n",
      "Epoch 6/50\n",
      "\u001b[1m3554/3554\u001b[0m \u001b[32m━━━━━━━━━━━━━━━━━━━━\u001b[0m\u001b[37m\u001b[0m \u001b[1m8s\u001b[0m 2ms/step - kl_divergence: 0.0127 - loss: 37.4667 - reconstruction_loss: 37.4540\n",
      "Epoch 7/50\n",
      "\u001b[1m3554/3554\u001b[0m \u001b[32m━━━━━━━━━━━━━━━━━━━━\u001b[0m\u001b[37m\u001b[0m \u001b[1m10s\u001b[0m 3ms/step - kl_divergence: 0.0126 - loss: 37.4604 - reconstruction_loss: 37.4478\n",
      "Epoch 8/50\n",
      "\u001b[1m3554/3554\u001b[0m \u001b[32m━━━━━━━━━━━━━━━━━━━━\u001b[0m\u001b[37m\u001b[0m \u001b[1m8s\u001b[0m 2ms/step - kl_divergence: 0.0128 - loss: 37.4591 - reconstruction_loss: 37.4463\n",
      "Epoch 9/50\n",
      "\u001b[1m3554/3554\u001b[0m \u001b[32m━━━━━━━━━━━━━━━━━━━━\u001b[0m\u001b[37m\u001b[0m \u001b[1m7s\u001b[0m 2ms/step - kl_divergence: 0.0128 - loss: 37.4539 - reconstruction_loss: 37.4412\n",
      "Epoch 10/50\n",
      "\u001b[1m3554/3554\u001b[0m \u001b[32m━━━━━━━━━━━━━━━━━━━━\u001b[0m\u001b[37m\u001b[0m \u001b[1m9s\u001b[0m 2ms/step - kl_divergence: 0.0127 - loss: 37.4587 - reconstruction_loss: 37.4460\n",
      "Epoch 11/50\n",
      "\u001b[1m3554/3554\u001b[0m \u001b[32m━━━━━━━━━━━━━━━━━━━━\u001b[0m\u001b[37m\u001b[0m \u001b[1m9s\u001b[0m 2ms/step - kl_divergence: 0.0129 - loss: 37.4550 - reconstruction_loss: 37.4420\n",
      "Epoch 12/50\n",
      "\u001b[1m3554/3554\u001b[0m \u001b[32m━━━━━━━━━━━━━━━━━━━━\u001b[0m\u001b[37m\u001b[0m \u001b[1m8s\u001b[0m 2ms/step - kl_divergence: 0.0130 - loss: 37.4581 - reconstruction_loss: 37.4451\n",
      "Epoch 13/50\n",
      "\u001b[1m3554/3554\u001b[0m \u001b[32m━━━━━━━━━━━━━━━━━━━━\u001b[0m\u001b[37m\u001b[0m \u001b[1m9s\u001b[0m 2ms/step - kl_divergence: 0.0126 - loss: 37.4542 - reconstruction_loss: 37.4416\n",
      "Epoch 14/50\n",
      "\u001b[1m3554/3554\u001b[0m \u001b[32m━━━━━━━━━━━━━━━━━━━━\u001b[0m\u001b[37m\u001b[0m \u001b[1m8s\u001b[0m 2ms/step - kl_divergence: 0.0129 - loss: 37.4532 - reconstruction_loss: 37.4403\n",
      "Epoch 15/50\n",
      "\u001b[1m3554/3554\u001b[0m \u001b[32m━━━━━━━━━━━━━━━━━━━━\u001b[0m\u001b[37m\u001b[0m \u001b[1m8s\u001b[0m 2ms/step - kl_divergence: 0.0128 - loss: 37.4529 - reconstruction_loss: 37.4401\n",
      "Epoch 16/50\n",
      "\u001b[1m3554/3554\u001b[0m \u001b[32m━━━━━━━━━━━━━━━━━━━━\u001b[0m\u001b[37m\u001b[0m \u001b[1m8s\u001b[0m 2ms/step - kl_divergence: 0.0129 - loss: 37.4568 - reconstruction_loss: 37.4439\n",
      "Epoch 17/50\n",
      "\u001b[1m3554/3554\u001b[0m \u001b[32m━━━━━━━━━━━━━━━━━━━━\u001b[0m\u001b[37m\u001b[0m \u001b[1m9s\u001b[0m 2ms/step - kl_divergence: 0.0130 - loss: 37.4553 - reconstruction_loss: 37.4423\n",
      "Epoch 18/50\n",
      "\u001b[1m3554/3554\u001b[0m \u001b[32m━━━━━━━━━━━━━━━━━━━━\u001b[0m\u001b[37m\u001b[0m \u001b[1m9s\u001b[0m 2ms/step - kl_divergence: 0.0132 - loss: 37.4564 - reconstruction_loss: 37.4432\n",
      "Epoch 19/50\n",
      "\u001b[1m3554/3554\u001b[0m \u001b[32m━━━━━━━━━━━━━━━━━━━━\u001b[0m\u001b[37m\u001b[0m \u001b[1m11s\u001b[0m 3ms/step - kl_divergence: 0.0132 - loss: 37.4541 - reconstruction_loss: 37.4410\n",
      "Epoch 20/50\n",
      "\u001b[1m3554/3554\u001b[0m \u001b[32m━━━━━━━━━━━━━━━━━━━━\u001b[0m\u001b[37m\u001b[0m \u001b[1m11s\u001b[0m 3ms/step - kl_divergence: 0.0128 - loss: 37.4569 - reconstruction_loss: 37.4441\n",
      "Epoch 21/50\n",
      "\u001b[1m3554/3554\u001b[0m \u001b[32m━━━━━━━━━━━━━━━━━━━━\u001b[0m\u001b[37m\u001b[0m \u001b[1m10s\u001b[0m 3ms/step - kl_divergence: 0.0129 - loss: 37.4606 - reconstruction_loss: 37.4477\n",
      "Epoch 22/50\n",
      "\u001b[1m3554/3554\u001b[0m \u001b[32m━━━━━━━━━━━━━━━━━━━━\u001b[0m\u001b[37m\u001b[0m \u001b[1m8s\u001b[0m 2ms/step - kl_divergence: 0.0129 - loss: 37.4528 - reconstruction_loss: 37.4399\n",
      "Epoch 23/50\n",
      "\u001b[1m3554/3554\u001b[0m \u001b[32m━━━━━━━━━━━━━━━━━━━━\u001b[0m\u001b[37m\u001b[0m \u001b[1m7s\u001b[0m 2ms/step - kl_divergence: 0.0129 - loss: 37.4556 - reconstruction_loss: 37.4426\n",
      "Epoch 24/50\n",
      "\u001b[1m3554/3554\u001b[0m \u001b[32m━━━━━━━━━━━━━━━━━━━━\u001b[0m\u001b[37m\u001b[0m \u001b[1m9s\u001b[0m 2ms/step - kl_divergence: 0.0129 - loss: 37.4576 - reconstruction_loss: 37.4447\n",
      "Epoch 25/50\n",
      "\u001b[1m3554/3554\u001b[0m \u001b[32m━━━━━━━━━━━━━━━━━━━━\u001b[0m\u001b[37m\u001b[0m \u001b[1m7s\u001b[0m 2ms/step - kl_divergence: 0.0128 - loss: 37.4584 - reconstruction_loss: 37.4456\n",
      "Epoch 26/50\n",
      "\u001b[1m3554/3554\u001b[0m \u001b[32m━━━━━━━━━━━━━━━━━━━━\u001b[0m\u001b[37m\u001b[0m \u001b[1m7s\u001b[0m 2ms/step - kl_divergence: 0.0131 - loss: 37.4521 - reconstruction_loss: 37.4389\n",
      "Epoch 27/50\n",
      "\u001b[1m3554/3554\u001b[0m \u001b[32m━━━━━━━━━━━━━━━━━━━━\u001b[0m\u001b[37m\u001b[0m \u001b[1m9s\u001b[0m 2ms/step - kl_divergence: 0.0127 - loss: 37.4547 - reconstruction_loss: 37.4420\n",
      "Epoch 28/50\n",
      "\u001b[1m3554/3554\u001b[0m \u001b[32m━━━━━━━━━━━━━━━━━━━━\u001b[0m\u001b[37m\u001b[0m \u001b[1m8s\u001b[0m 2ms/step - kl_divergence: 0.0129 - loss: 37.4565 - reconstruction_loss: 37.4436\n",
      "Epoch 29/50\n",
      "\u001b[1m3554/3554\u001b[0m \u001b[32m━━━━━━━━━━━━━━━━━━━━\u001b[0m\u001b[37m\u001b[0m \u001b[1m7s\u001b[0m 2ms/step - kl_divergence: 0.0128 - loss: 37.4535 - reconstruction_loss: 37.4407\n",
      "Epoch 30/50\n",
      "\u001b[1m3554/3554\u001b[0m \u001b[32m━━━━━━━━━━━━━━━━━━━━\u001b[0m\u001b[37m\u001b[0m \u001b[1m6s\u001b[0m 2ms/step - kl_divergence: 0.0127 - loss: 37.4579 - reconstruction_loss: 37.4452\n",
      "Epoch 31/50\n",
      "\u001b[1m3554/3554\u001b[0m \u001b[32m━━━━━━━━━━━━━━━━━━━━\u001b[0m\u001b[37m\u001b[0m \u001b[1m7s\u001b[0m 2ms/step - kl_divergence: 0.0128 - loss: 37.4520 - reconstruction_loss: 37.4392\n",
      "Epoch 32/50\n",
      "\u001b[1m3554/3554\u001b[0m \u001b[32m━━━━━━━━━━━━━━━━━━━━\u001b[0m\u001b[37m\u001b[0m \u001b[1m7s\u001b[0m 2ms/step - kl_divergence: 0.0129 - loss: 37.4535 - reconstruction_loss: 37.4406\n",
      "Epoch 33/50\n",
      "\u001b[1m3554/3554\u001b[0m \u001b[32m━━━━━━━━━━━━━━━━━━━━\u001b[0m\u001b[37m\u001b[0m \u001b[1m6s\u001b[0m 2ms/step - kl_divergence: 0.0126 - loss: 37.4567 - reconstruction_loss: 37.4440\n",
      "Epoch 34/50\n",
      "\u001b[1m3554/3554\u001b[0m \u001b[32m━━━━━━━━━━━━━━━━━━━━\u001b[0m\u001b[37m\u001b[0m \u001b[1m6s\u001b[0m 2ms/step - kl_divergence: 0.0128 - loss: 37.4578 - reconstruction_loss: 37.4451\n",
      "Epoch 35/50\n",
      "\u001b[1m3554/3554\u001b[0m \u001b[32m━━━━━━━━━━━━━━━━━━━━\u001b[0m\u001b[37m\u001b[0m \u001b[1m7s\u001b[0m 2ms/step - kl_divergence: 0.0132 - loss: 37.4505 - reconstruction_loss: 37.4372\n",
      "Epoch 36/50\n",
      "\u001b[1m3554/3554\u001b[0m \u001b[32m━━━━━━━━━━━━━━━━━━━━\u001b[0m\u001b[37m\u001b[0m \u001b[1m7s\u001b[0m 2ms/step - kl_divergence: 0.0128 - loss: 37.4537 - reconstruction_loss: 37.4409\n",
      "Epoch 37/50\n",
      "\u001b[1m3554/3554\u001b[0m \u001b[32m━━━━━━━━━━━━━━━━━━━━\u001b[0m\u001b[37m\u001b[0m \u001b[1m8s\u001b[0m 2ms/step - kl_divergence: 0.0128 - loss: 37.4531 - reconstruction_loss: 37.4403\n",
      "Epoch 38/50\n",
      "\u001b[1m3554/3554\u001b[0m \u001b[32m━━━━━━━━━━━━━━━━━━━━\u001b[0m\u001b[37m\u001b[0m \u001b[1m11s\u001b[0m 3ms/step - kl_divergence: 0.0131 - loss: 37.4516 - reconstruction_loss: 37.4385\n",
      "Epoch 39/50\n",
      "\u001b[1m3554/3554\u001b[0m \u001b[32m━━━━━━━━━━━━━━━━━━━━\u001b[0m\u001b[37m\u001b[0m \u001b[1m8s\u001b[0m 2ms/step - kl_divergence: 0.0130 - loss: 37.4621 - reconstruction_loss: 37.4491\n",
      "Epoch 40/50\n",
      "\u001b[1m3554/3554\u001b[0m \u001b[32m━━━━━━━━━━━━━━━━━━━━\u001b[0m\u001b[37m\u001b[0m \u001b[1m8s\u001b[0m 2ms/step - kl_divergence: 0.0131 - loss: 37.4530 - reconstruction_loss: 37.4399\n",
      "Epoch 41/50\n",
      "\u001b[1m3554/3554\u001b[0m \u001b[32m━━━━━━━━━━━━━━━━━━━━\u001b[0m\u001b[37m\u001b[0m \u001b[1m7s\u001b[0m 2ms/step - kl_divergence: 0.0128 - loss: 37.4487 - reconstruction_loss: 37.4358\n",
      "Epoch 42/50\n",
      "\u001b[1m3554/3554\u001b[0m \u001b[32m━━━━━━━━━━━━━━━━━━━━\u001b[0m\u001b[37m\u001b[0m \u001b[1m7s\u001b[0m 2ms/step - kl_divergence: 0.0131 - loss: 37.4537 - reconstruction_loss: 37.4406\n",
      "Epoch 43/50\n",
      "\u001b[1m3554/3554\u001b[0m \u001b[32m━━━━━━━━━━━━━━━━━━━━\u001b[0m\u001b[37m\u001b[0m \u001b[1m8s\u001b[0m 2ms/step - kl_divergence: 0.0127 - loss: 37.4565 - reconstruction_loss: 37.4437\n",
      "Epoch 44/50\n",
      "\u001b[1m3554/3554\u001b[0m \u001b[32m━━━━━━━━━━━━━━━━━━━━\u001b[0m\u001b[37m\u001b[0m \u001b[1m8s\u001b[0m 2ms/step - kl_divergence: 0.0130 - loss: 37.4566 - reconstruction_loss: 37.4436\n",
      "Epoch 45/50\n",
      "\u001b[1m3554/3554\u001b[0m \u001b[32m━━━━━━━━━━━━━━━━━━━━\u001b[0m\u001b[37m\u001b[0m \u001b[1m8s\u001b[0m 2ms/step - kl_divergence: 0.0129 - loss: 37.4534 - reconstruction_loss: 37.4405\n",
      "Epoch 46/50\n",
      "\u001b[1m3554/3554\u001b[0m \u001b[32m━━━━━━━━━━━━━━━━━━━━\u001b[0m\u001b[37m\u001b[0m \u001b[1m6s\u001b[0m 2ms/step - kl_divergence: 0.0130 - loss: 37.4530 - reconstruction_loss: 37.4400\n",
      "Epoch 47/50\n",
      "\u001b[1m3554/3554\u001b[0m \u001b[32m━━━━━━━━━━━━━━━━━━━━\u001b[0m\u001b[37m\u001b[0m \u001b[1m8s\u001b[0m 2ms/step - kl_divergence: 0.0125 - loss: 37.4532 - reconstruction_loss: 37.4407\n",
      "Epoch 48/50\n",
      "\u001b[1m3554/3554\u001b[0m \u001b[32m━━━━━━━━━━━━━━━━━━━━\u001b[0m\u001b[37m\u001b[0m \u001b[1m9s\u001b[0m 2ms/step - kl_divergence: 0.0129 - loss: 37.4550 - reconstruction_loss: 37.4422\n",
      "Epoch 49/50\n",
      "\u001b[1m3554/3554\u001b[0m \u001b[32m━━━━━━━━━━━━━━━━━━━━\u001b[0m\u001b[37m\u001b[0m \u001b[1m8s\u001b[0m 2ms/step - kl_divergence: 0.0130 - loss: 37.4523 - reconstruction_loss: 37.4394\n",
      "Epoch 50/50\n",
      "\u001b[1m3554/3554\u001b[0m \u001b[32m━━━━━━━━━━━━━━━━━━━━\u001b[0m\u001b[37m\u001b[0m \u001b[1m10s\u001b[0m 3ms/step - kl_divergence: 0.0129 - loss: 37.4535 - reconstruction_loss: 37.4406\n"
     ]
    }
   ],
   "source": [
    "tfk = tf.keras\n",
    "tfkl = tf.keras.layers\n",
    "tfpl = tfp.layers\n",
    "\n",
    "# Definizione della classe MultivariateNormalTriLLayer\n",
    "class MultivariateNormalTriLLayer(tfkl.Layer):\n",
    "    def __init__(self, latent_dim, **kwargs):\n",
    "        super(MultivariateNormalTriLLayer, self).__init__(**kwargs)\n",
    "        self.latent_dim = latent_dim\n",
    "\n",
    "    def build(self, input_shape):\n",
    "        self.untransformed_scale_tril = self.add_weight(name='untransformed_scale_tril',\n",
    "                                                        shape=(self.latent_dim * (self.latent_dim + 1) // 2,),\n",
    "                                                        initializer='random_normal',\n",
    "                                                        trainable=True)\n",
    "        super(MultivariateNormalTriLLayer, self).build(input_shape)\n",
    "\n",
    "    def call(self, inputs):\n",
    "        loc = inputs[..., :self.latent_dim]\n",
    "        scale_tril = tfp.math.fill_triangular(self.untransformed_scale_tril)\n",
    "        dist = tfd.MultivariateNormalTriL(loc=loc, scale_tril=scale_tril)\n",
    "        sample = dist.sample()\n",
    "        return sample  # Return the sample, not the distribution object\n",
    "\n",
    "# Definizione della funzione dense_layers\n",
    "def dense_layers(intermediary_dims):\n",
    "    return tfk.Sequential([\n",
    "        tfkl.Dense(units, activation='relu') for units in intermediary_dims\n",
    "    ])\n",
    "\n",
    "# Definizione del decoder come una classe Layer\n",
    "class Decoder(tfkl.Layer):\n",
    "    def __init__(self, original_dim, intermediary_dims, name='decoder', **kwargs):\n",
    "        super(Decoder, self).__init__(name=name, **kwargs)\n",
    "        self.original_dim = original_dim\n",
    "        self.decoder_hidden = tf.keras.Sequential([\n",
    "            tf.keras.layers.Dense(units, activation='relu') for units in intermediary_dims\n",
    "        ] + [\n",
    "            tf.keras.layers.Dense(original_dim, activation='sigmoid')\n",
    "        ])\n",
    "\n",
    "    def call(self, inputs):\n",
    "        return self.decoder_hidden(inputs)\n",
    "\n",
    "# Definizione del modello VAE\n",
    "class VAE(tf.keras.Model):\n",
    "    def __init__(self, original_dim, intermediary_dims, latent_dim, prior, **kwargs):\n",
    "        super(VAE, self).__init__(**kwargs)\n",
    "        self.original_dim = original_dim\n",
    "        self.intermediary_dims = intermediary_dims\n",
    "        self.latent_dim = latent_dim\n",
    "        self.prior = prior\n",
    "\n",
    "        # Encoder\n",
    "        self.encoder_inputs = tf.keras.Input(shape=(original_dim,), name='encoder_input')\n",
    "        self.encoder = self.build_encoder()\n",
    "\n",
    "        # Decoder\n",
    "        self.decoder = Decoder(original_dim, intermediary_dims)\n",
    "\n",
    "    def build_encoder(self):\n",
    "        x = dense_layers(self.intermediary_dims)(self.encoder_inputs)\n",
    "        params = tfkl.Dense(tfpl.MultivariateNormalTriL.params_size(self.latent_dim), activation=None)(x)\n",
    "        z = MultivariateNormalTriLLayer(self.latent_dim)(params)\n",
    "        return tf.keras.Model(self.encoder_inputs, [z, params], name='encoder')\n",
    "\n",
    "    @tf.function\n",
    "    def call(self, inputs):\n",
    "        if isinstance(inputs, tuple):\n",
    "            inputs = inputs[0]\n",
    "        z_sample, _ = self.encoder(inputs)  # Otteniamo sia z_sample che params\n",
    "        reconstructed = self.decoder(z_sample)\n",
    "        return reconstructed\n",
    "\n",
    "    def compute_kl_divergence(self, q_z_x_params):\n",
    "        q_distribution = tfd.MultivariateNormalTriL(loc=q_z_x_params[..., :self.latent_dim],\n",
    "                                                    scale_tril=tfp.math.fill_triangular(q_z_x_params[..., self.latent_dim:]))\n",
    "        p_distribution = self.prior\n",
    "        return tfd.kl_divergence(q_distribution, p_distribution)\n",
    "\n",
    "    def train_step(self, data):\n",
    "        if isinstance(data, tuple):\n",
    "            data = data[0]\n",
    "            \n",
    "        with tf.GradientTape() as tape:\n",
    "            reconstructed = self(data)\n",
    "            reconstruction_loss_fn = tf.keras.losses.MeanSquaredError()\n",
    "            reconstruction_loss = reconstruction_loss_fn(data, reconstructed)\n",
    "            reconstruction_loss *= self.original_dim\n",
    "            print(reconstruction_loss)\n",
    "            z_sample, q_z_x_params = self.encoder(data)\n",
    "            kl_divergence = tf.reduce_mean(self.compute_kl_divergence(q_z_x_params))\n",
    "\n",
    "            elbo_loss = reconstruction_loss + kl_divergence\n",
    "        gradients = tape.gradient(elbo_loss, self.trainable_variables)\n",
    "        self.optimizer.apply_gradients(zip(gradients, self.trainable_variables))\n",
    "\n",
    "        return {\"loss\": elbo_loss, \"reconstruction_loss\": reconstruction_loss, \"kl_divergence\": kl_divergence}\n",
    "\n",
    "# Definizione dei parametri\n",
    "input_dim = X_train.shape[1]\n",
    "original_dim = input_dim\n",
    "intermediary_dims = [20, 10, 8]\n",
    "latent_dim = 2\n",
    "prior = tfd.MultivariateNormalDiag(loc=tf.zeros(latent_dim), scale_diag=tf.ones(latent_dim))\n",
    "\n",
    "# Creazione dell'istanza del modello VAE\n",
    "vae = VAE(original_dim, intermediary_dims, latent_dim, prior)\n",
    "\n",
    "# Compilazione del modello specificando la loss\n",
    "vae.compile(optimizer=tf.keras.optimizers.Adam())\n",
    "\n",
    "# Allenamento del modello\n",
    "history = vae.fit(X_train, X_train, epochs=50, batch_size=64)\n"
   ]
  },
  {
   "cell_type": "code",
   "execution_count": 10,
   "metadata": {},
   "outputs": [
    {
     "data": {
      "image/png": "[encoded data removed]",
      "text/plain": [
       "<Figure size 1000x600 with 1 Axes>"
      ]
     },
     "metadata": {},
     "output_type": "display_data"
    }
   ],
   "source": [
    "# Estrazione della loss\n",
    "loss = history.history['loss']\n",
    "reconstruction_loss = history.history['reconstruction_loss']\n",
    "kl_divergence = history.history['kl_divergence']\n",
    "\n",
    "# Plot della loss\n",
    "epochs = range(1, len(loss) + 1)\n",
    "\n",
    "plt.figure(figsize=(10, 6))\n",
    "plt.plot(epochs, loss, label='Total Loss')\n",
    "plt.plot(epochs, reconstruction_loss, label='Reconstruction Loss')\n",
    "plt.plot(epochs, kl_divergence, label='KL Divergence')\n",
    "\n",
    "plt.title('Training Losses')\n",
    "plt.xlabel('Epochs')\n",
    "plt.ylabel('Loss')\n",
    "plt.legend()\n",
    "plt.grid(True)\n",
    "plt.tight_layout()\n",
    "\n",
    "plt.show()"
   ]
  },
  {
   "cell_type": "code",
   "execution_count": 11,
   "metadata": {},
   "outputs": [
    {
     "name": "stdout",
     "output_type": "stream",
     "text": [
      "[  0.57180156   0.67633004   1.38860613 ...   1.34650931   3.6738637\n",
      " 110.06458598]\n"
     ]
    }
   ],
   "source": [
    "# Calcolo della perdita di ricostruzione su X_test\n",
    "reconstructed = vae.decoder(vae.encoder(X_test)).numpy()\n",
    "reconstruction_loss = np.mean(np.square(X_test - reconstructed), axis=1)\n",
    "\n",
    "print(reconstruction_loss)\n",
    "\n",
    "# Definizione di una soglia arbitraria (può essere ottimizzata)\n",
    "threshold = 2.5\n",
    "\n",
    "# Creazione di un array binario per le previsioni basate sulla soglia\n",
    "predictions = (reconstruction_loss > threshold).astype(np.int32)\n"
   ]
  },
  {
   "cell_type": "code",
   "execution_count": 12,
   "metadata": {},
   "outputs": [
    {
     "name": "stdout",
     "output_type": "stream",
     "text": [
      "Metriche con soglia arbitraria:\n",
      "AUC: 0.9531\n",
      "Accuracy: 0.9116\n",
      "Precision: 0.9196\n",
      "Recall: 0.8537\n",
      "F1-score: 0.8854\n",
      "TN: 32478, FP: 1700, FN: 3333, TP: 19451\n",
      "\n",
      "ROC Curve Optimization:\n",
      "Optimal Threshold (ROC): inf\n",
      "AUC (ROC): 0.9531\n",
      "Accuracy (ROC): 0.6000\n",
      "Precision (ROC): 0.0000\n",
      "Recall (ROC): 0.0000\n",
      "F1-score (ROC): 0.0000\n",
      "TN (ROC): 34178, FP (ROC): 0, FN (ROC): 22784, TP (ROC): 0\n",
      "\n",
      "Precision-Recall Curve Optimization:\n",
      "Optimal Threshold (PR): 2.3483\n",
      "AUC (PR): 0.9531\n",
      "Accuracy (PR): 0.9246\n",
      "Precision (PR): 0.9165\n",
      "Recall (PR): 0.8928\n",
      "F1-score (PR): 0.9045\n",
      "TN (PR): 32324, FP (PR): 1854, FN (PR): 2442, TP (PR): 20342\n"
     ]
    },
    {
     "name": "stderr",
     "output_type": "stream",
     "text": [
      "/Users/edoardozappia/Library/Python/3.9/lib/python/site-packages/sklearn/metrics/_classification.py:1497: UndefinedMetricWarning: Precision is ill-defined and being set to 0.0 due to no predicted samples. Use `zero_division` parameter to control this behavior.\n",
      "  _warn_prf(average, modifier, f\"{metric.capitalize()} is\", len(result))\n"
     ]
    }
   ],
   "source": [
    "# Definisci la funzione per calcolare le metriche in base al threshold\n",
    "def calculate_metrics(y_test, predictions, reconstruction_loss):\n",
    "    # Calcolo delle metriche\n",
    "    auc = roc_auc_score(y_test, reconstruction_loss)\n",
    "    accuracy = accuracy_score(y_test, predictions)\n",
    "    precision = precision_score(y_test, predictions)\n",
    "    recall = recall_score(y_test, predictions)\n",
    "    f1 = f1_score(y_test, predictions)\n",
    "    cm = confusion_matrix(y_test, predictions)\n",
    "    tn, fp, fn, tp = cm.ravel()\n",
    "    return auc, accuracy, precision, recall, f1, tn, fp, fn, tp\n",
    "\n",
    "nan_indices = np.isnan(reconstruction_loss)\n",
    "if np.any(nan_indices):\n",
    "    print(f\"Found NaN values in reconstruction_loss at indices: {np.where(nan_indices)}\")\n",
    "\n",
    "# Calcolo delle metriche per la soglia arbitraria\n",
    "auc, accuracy, precision, recall, f1, tn, fp, fn, tp = calculate_metrics(y_test, predictions, reconstruction_loss)\n",
    "\n",
    "print(f'Metriche con soglia arbitraria:')\n",
    "print(f'AUC: {auc:.4f}')\n",
    "print(f'Accuracy: {accuracy:.4f}')\n",
    "print(f'Precision: {precision:.4f}')\n",
    "print(f'Recall: {recall:.4f}')\n",
    "print(f'F1-score: {f1:.4f}')\n",
    "print(f'TN: {tn}, FP: {fp}, FN: {fn}, TP: {tp}')\n",
    "print()\n",
    "\n",
    "# Ottimizzazione del threshold utilizzando la curva ROC\n",
    "fpr, tpr, thresholds_roc = roc_curve(y_test, reconstruction_loss)\n",
    "roc_auc_scores = [roc_auc_score(y_test, reconstruction_loss) for threshold in thresholds_roc]\n",
    "optimal_threshold_roc = thresholds_roc[np.argmax(roc_auc_scores)]\n",
    "\n",
    "# Applica il threshold ottimizzato dalla curva ROC\n",
    "predictions_roc = (reconstruction_loss > optimal_threshold_roc).astype(np.int32)\n",
    "\n",
    "# Calcola le metriche utilizzando l'optimal_threshold_roc\n",
    "auc_roc, accuracy_roc, precision_roc, recall_roc, f1_roc, tn_roc, fp_roc, fn_roc, tp_roc = calculate_metrics(y_test, predictions_roc, reconstruction_loss)\n",
    "\n",
    "print(f'ROC Curve Optimization:')\n",
    "print(f'Optimal Threshold (ROC): {optimal_threshold_roc:.4f}')\n",
    "print(f'AUC (ROC): {auc_roc:.4f}')\n",
    "print(f'Accuracy (ROC): {accuracy_roc:.4f}')\n",
    "print(f'Precision (ROC): {precision_roc:.4f}')\n",
    "print(f'Recall (ROC): {recall_roc:.4f}')\n",
    "print(f'F1-score (ROC): {f1_roc:.4f}')\n",
    "print(f'TN (ROC): {tn_roc}, FP (ROC): {fp_roc}, FN (ROC): {fn_roc}, TP (ROC): {tp_roc}')\n",
    "print()\n",
    "\n",
    "# Ottimizzazione del threshold utilizzando la curva precision-recall\n",
    "precision, recall, thresholds_pr = precision_recall_curve(y_test, reconstruction_loss)\n",
    "f1_scores = 2 * (precision * recall) / (precision + recall)\n",
    "optimal_threshold_pr = thresholds_pr[np.argmax(f1_scores)]\n",
    "\n",
    "# Applica il threshold ottimizzato dalla curva precision-recall\n",
    "predictions_pr = (reconstruction_loss > optimal_threshold_pr).astype(np.int32)\n",
    "\n",
    "# Calcola le metriche utilizzando l'optimal_threshold_pr\n",
    "auc_pr, accuracy_pr, precision_pr, recall_pr, f1_pr, tn_pr, fp_pr, fn_pr, tp_pr = calculate_metrics(y_test, predictions_pr, reconstruction_loss)\n",
    "\n",
    "print(f'Precision-Recall Curve Optimization:')\n",
    "print(f'Optimal Threshold (PR): {optimal_threshold_pr:.4f}')\n",
    "print(f'AUC (PR): {auc_pr:.4f}')\n",
    "print(f'Accuracy (PR): {accuracy_pr:.4f}')\n",
    "print(f'Precision (PR): {precision_pr:.4f}')\n",
    "print(f'Recall (PR): {recall_pr:.4f}')\n",
    "print(f'F1-score (PR): {f1_pr:.4f}')\n",
    "print(f'TN (PR): {tn_pr}, FP (PR): {fp_pr}, FN (PR): {fn_pr}, TP (PR): {tp_pr}')\n"
   ]
  }
 ],
 "metadata": {
  "kernelspec": {
   "display_name": "Python 3",
   "language": "python",
   "name": "python3"
  },
  "language_info": {
   "codemirror_mode": {
    "name": "ipython",
    "version": 3
   },
   "file_extension": ".py",
   "mimetype": "text/x-python",
   "name": "python",
   "nbconvert_exporter": "python",
   "pygments_lexer": "ipython3",
   "version": "3.9.6"
  }
 },
 "nbformat": 4,
 "nbformat_minor": 2
}
